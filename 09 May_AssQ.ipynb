{
  "nbformat": 4,
  "nbformat_minor": 0,
  "metadata": {
    "colab": {
      "provenance": []
    },
    "kernelspec": {
      "name": "python3",
      "display_name": "Python 3"
    },
    "language_info": {
      "name": "python"
    }
  },
  "cells": [
    {
      "cell_type": "markdown",
      "source": [
        "Q1. Create one variable containing following type of data:\n",
        "\n",
        "(i) string\n",
        "\n",
        "(ii) list\n",
        "\n",
        "(iii) float\n",
        "\n",
        "(iv) tuple\n",
        "\n"
      ],
      "metadata": {
        "id": "KtTCSxIQODKb"
      }
    },
    {
      "cell_type": "code",
      "execution_count": 1,
      "metadata": {
        "id": "pcZdadqwN5UM"
      },
      "outputs": [],
      "source": [
        "string_var = \"Manivarma\"\n",
        "list_var = [1,2,3,'a', 'b']\n",
        "float_var = 14.014\n",
        "tuple_var = (1, 2, 3, 'a', 'b')"
      ]
    },
    {
      "cell_type": "markdown",
      "source": [
        "Q2. Given are some following variables containing data:\n",
        "\n",
        "(i) var1 = ‘ ‘\n",
        "\n",
        "(ii) var2 = ‘[ DS , ML , Python]’\n",
        "\n",
        "(iii) var3 = [ ‘DS’ , ’ML’ , ‘Python’ ]\n",
        "\n",
        "(iv) var4 = 1.\n",
        "\n",
        "\n",
        "What will be the data type of the above given variable."
      ],
      "metadata": {
        "id": "QNmneZibObxA"
      }
    },
    {
      "cell_type": "code",
      "source": [
        "var1 = ''\n",
        "print(type(var1))\n",
        "var2 = '[ DS , ML , Python]'\n",
        "print(type(var2))\n",
        "var3 = [ 'DS' , 'ML' , 'Python' ]\n",
        "print(type(var3))\n",
        "var4 = 1\n",
        "print(type(var4))"
      ],
      "metadata": {
        "colab": {
          "base_uri": "https://localhost:8080/"
        },
        "id": "gXcykx1pOZYW",
        "outputId": "fd36c337-57c8-4d2c-c4ef-1753424ebd53"
      },
      "execution_count": 4,
      "outputs": [
        {
          "output_type": "stream",
          "name": "stdout",
          "text": [
            "<class 'str'>\n",
            "<class 'str'>\n",
            "<class 'list'>\n",
            "<class 'int'>\n"
          ]
        }
      ]
    },
    {
      "cell_type": "markdown",
      "source": [
        "Q3. Explain the use of the following operators using an example:\n",
        "\n",
        "(i) /\n",
        "\n",
        "(ii) %\n",
        "\n",
        "(iii) //\n",
        "\n",
        "(iv) **"
      ],
      "metadata": {
        "id": "V11xBFETO8tW"
      }
    },
    {
      "cell_type": "code",
      "source": [
        "'''\n",
        "/ is used for performing division operation\n",
        "% is used for performing modulo operation\n",
        "// is used for performing floor division operation\n",
        "** is used for performing power operation\n",
        "'''\n",
        "\n",
        "print(14/7)\n",
        "print(14%7)\n",
        "print(14//7)\n",
        "print(14**7)"
      ],
      "metadata": {
        "colab": {
          "base_uri": "https://localhost:8080/"
        },
        "id": "wq5id6yWOxik",
        "outputId": "8a49f3b8-40cb-4fac-8655-d06446b21296"
      },
      "execution_count": 5,
      "outputs": [
        {
          "output_type": "stream",
          "name": "stdout",
          "text": [
            "2.0\n",
            "0\n",
            "2\n",
            "105413504\n"
          ]
        }
      ]
    },
    {
      "cell_type": "markdown",
      "source": [
        "Q4. Create a list of length 10 of your choice containing multiple types of data. Using for loop print the\n",
        "element and its data type."
      ],
      "metadata": {
        "id": "v5LT6CHZPkTj"
      }
    },
    {
      "cell_type": "code",
      "source": [
        "ls = [1, 2, 'abc', \"efg\", [1,2,3], 1+2j, 13.003, (1, 2, 3), 14, 5]\n",
        "for i in ls:\n",
        "    print(i, ' ---> ', type(i))"
      ],
      "metadata": {
        "colab": {
          "base_uri": "https://localhost:8080/"
        },
        "id": "8ulfb2hsPgFu",
        "outputId": "311204fd-dce7-4e26-cbed-5bd7a57fad73"
      },
      "execution_count": 7,
      "outputs": [
        {
          "output_type": "stream",
          "name": "stdout",
          "text": [
            "1  --->  <class 'int'>\n",
            "2  --->  <class 'int'>\n",
            "abc  --->  <class 'str'>\n",
            "efg  --->  <class 'str'>\n",
            "[1, 2, 3]  --->  <class 'list'>\n",
            "(1+2j)  --->  <class 'complex'>\n",
            "13.003  --->  <class 'float'>\n",
            "(1, 2, 3)  --->  <class 'tuple'>\n",
            "14  --->  <class 'int'>\n",
            "5  --->  <class 'int'>\n"
          ]
        }
      ]
    },
    {
      "cell_type": "markdown",
      "source": [
        "Q5. Using a while loop, verify if the number A is purely divisible by number B and if so then how many times it can be divisible."
      ],
      "metadata": {
        "id": "r9KjUb2eQHHQ"
      }
    },
    {
      "cell_type": "code",
      "source": [
        "A = int(input('enter A: '))\n",
        "B = int(input('enter B: '))\n",
        "if A%B == 0:\n",
        "    print(A/B)"
      ],
      "metadata": {
        "colab": {
          "base_uri": "https://localhost:8080/"
        },
        "id": "uR1f2b9tP9hP",
        "outputId": "c6d2b5a4-dd6a-428b-ccec-81bfa6aaaafa"
      },
      "execution_count": 8,
      "outputs": [
        {
          "output_type": "stream",
          "name": "stdout",
          "text": [
            "enter A: 15\n",
            "enter B: 3\n",
            "5.0\n"
          ]
        }
      ]
    },
    {
      "cell_type": "markdown",
      "source": [
        "Q6. Create a list containing 25 int type data. Using for loop and if-else condition print if the element is divisible by 3 or not."
      ],
      "metadata": {
        "id": "tLfiFkXtQ8Hy"
      }
    },
    {
      "cell_type": "code",
      "source": [
        "ls = list(range(25))\n",
        "for i in ls:\n",
        "    if i%3 == 0:\n",
        "        print(i, \" divisible by 3\")\n",
        "    else:\n",
        "        print(i, \" not divisible by 3\")"
      ],
      "metadata": {
        "colab": {
          "base_uri": "https://localhost:8080/"
        },
        "id": "mfpwwJGUQ2G3",
        "outputId": "a6855264-7501-4909-d930-a65afd83849e"
      },
      "execution_count": 12,
      "outputs": [
        {
          "output_type": "stream",
          "name": "stdout",
          "text": [
            "0  divisible by 3\n",
            "1  not divisible by 3\n",
            "2  not divisible by 3\n",
            "3  divisible by 3\n",
            "4  not divisible by 3\n",
            "5  not divisible by 3\n",
            "6  divisible by 3\n",
            "7  not divisible by 3\n",
            "8  not divisible by 3\n",
            "9  divisible by 3\n",
            "10  not divisible by 3\n",
            "11  not divisible by 3\n",
            "12  divisible by 3\n",
            "13  not divisible by 3\n",
            "14  not divisible by 3\n",
            "15  divisible by 3\n",
            "16  not divisible by 3\n",
            "17  not divisible by 3\n",
            "18  divisible by 3\n",
            "19  not divisible by 3\n",
            "20  not divisible by 3\n",
            "21  divisible by 3\n",
            "22  not divisible by 3\n",
            "23  not divisible by 3\n",
            "24  divisible by 3\n"
          ]
        }
      ]
    },
    {
      "cell_type": "markdown",
      "source": [
        "Q7. What do you understand about mutable and immutable data types? Give examples for both showing this property."
      ],
      "metadata": {
        "id": "UvJjyAQ3Rzgx"
      }
    },
    {
      "cell_type": "code",
      "source": [
        "'''\n",
        "    the value of the mutable objects can be changed whereas it is not possible in immutable objects\n",
        "'''\n",
        "immutable_obj = \"yes I am Immutable\"\n",
        "mutable_obj = [1, 2, 3]\n",
        "\n",
        "mutable_obj[2] = 4\n",
        "print(mutable_obj)\n",
        "\n",
        "immutable_obj[2] = 'a'\n",
        "print(immutable_obj)"
      ],
      "metadata": {
        "colab": {
          "base_uri": "https://localhost:8080/",
          "height": 247
        },
        "id": "L56qSoCRRD7m",
        "outputId": "a3dacf23-9edb-4368-e49d-017693850b27"
      },
      "execution_count": 13,
      "outputs": [
        {
          "output_type": "stream",
          "name": "stdout",
          "text": [
            "[1, 2, 4]\n"
          ]
        },
        {
          "output_type": "error",
          "ename": "TypeError",
          "evalue": "ignored",
          "traceback": [
            "\u001b[0;31m---------------------------------------------------------------------------\u001b[0m",
            "\u001b[0;31mTypeError\u001b[0m                                 Traceback (most recent call last)",
            "\u001b[0;32m<ipython-input-13-a1a400570b07>\u001b[0m in \u001b[0;36m<cell line: 10>\u001b[0;34m()\u001b[0m\n\u001b[1;32m      8\u001b[0m \u001b[0mprint\u001b[0m\u001b[0;34m(\u001b[0m\u001b[0mmutable_obj\u001b[0m\u001b[0;34m)\u001b[0m\u001b[0;34m\u001b[0m\u001b[0;34m\u001b[0m\u001b[0m\n\u001b[1;32m      9\u001b[0m \u001b[0;34m\u001b[0m\u001b[0m\n\u001b[0;32m---> 10\u001b[0;31m \u001b[0mimmutable_obj\u001b[0m\u001b[0;34m[\u001b[0m\u001b[0;36m2\u001b[0m\u001b[0;34m]\u001b[0m \u001b[0;34m=\u001b[0m \u001b[0;34m'a'\u001b[0m\u001b[0;34m\u001b[0m\u001b[0;34m\u001b[0m\u001b[0m\n\u001b[0m\u001b[1;32m     11\u001b[0m \u001b[0mprint\u001b[0m\u001b[0;34m(\u001b[0m\u001b[0mimmutable_obj\u001b[0m\u001b[0;34m)\u001b[0m\u001b[0;34m\u001b[0m\u001b[0;34m\u001b[0m\u001b[0m\n",
            "\u001b[0;31mTypeError\u001b[0m: 'str' object does not support item assignment"
          ]
        }
      ]
    },
    {
      "cell_type": "code",
      "source": [],
      "metadata": {
        "id": "lJ2EXcrjS8c0"
      },
      "execution_count": null,
      "outputs": []
    }
  ]
}